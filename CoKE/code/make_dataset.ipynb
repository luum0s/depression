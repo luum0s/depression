{
 "cells": [
  {
   "cell_type": "code",
   "execution_count": 127,
   "metadata": {},
   "outputs": [],
   "source": [
    "import os\n",
    "import re\n",
    "import json\n",
    "import pickle\n",
    "import numpy as np\n",
    "import pandas as pd\n",
    "import torch\n",
    "from collections import defaultdict, Counter\n",
    "from sentence_transformers import SentenceTransformer\n",
    "import xml.dom.minidom\n",
    "import string\n",
    "from tqdm import tqdm\n",
    "from sklearn.cluster import KMeans, MiniBatchKMeans, Birch\n",
    "from sklearn.linear_model import LogisticRegression\n",
    "from sklearn.metrics.pairwise import cosine_similarity\n",
    "from sklearn.metrics import f1_score\n",
    "import matplotlib.pyplot as plt"
   ]
  },
  {
   "cell_type": "code",
   "execution_count": 128,
   "metadata": {},
   "outputs": [
    {
     "name": "stdout",
     "output_type": "stream",
     "text": [
      "21\n"
     ]
    }
   ],
   "source": [
    "questionaire_single = [ #   BDI-II 抑郁症测量表定义的症状----抑郁症模板中的第二组\n",
    "    \"I feel sad.\",\n",
    "    \"I am discouraged about my future.\",\n",
    "    \"I always fail.\",\n",
    "    \"I don't get pleasure from things.\",\n",
    "    \"I feel quite guilty.\",\n",
    "    \"I expected to be punished.\",\n",
    "    \"I am disappointed in myself.\",\n",
    "    \"I always criticize myself for my faults.\",\n",
    "    \"I have thoughts of killing myself.\",\n",
    "    \"I always cry.\",\n",
    "    \"I am hard to stay still.\",\n",
    "    \"It's hard to get interested in things.\",\n",
    "    \"I have trouble making decisions.\",\n",
    "    \"I feel worthless.\",\n",
    "    \"I don't have energy to do things.\",\n",
    "    \"I have changes in my sleeping pattern.\",\n",
    "    \"I am always irritable.\",\n",
    "    \"I have changes in my appetite.\",\n",
    "    \"I feel hard to concentrate on things.\",\n",
    "    \"I am too tired to do things.\",\n",
    "    \"I have lost my interest in sex.\"\n",
    "]\n",
    "print(len(questionaire_single))"
   ]
  },
  {
   "cell_type": "code",
   "execution_count": 129,
   "metadata": {},
   "outputs": [],
   "source": [
    "depression_texts = [     #抑郁症模板中的第一组：3个显性抑郁的表达组成，对应患者的抑郁情况。\n",
    "    \"I feel depressed.\",\n",
    "    \"I am diagnosed with depression.\",\n",
    "    \"I am treating my depression.\"\n",
    "]"
   ]
  },
  {
   "cell_type": "code",
   "execution_count": null,
   "metadata": {},
   "outputs": [],
   "source": [
    "with open(\"./processed/miniLM_L6_embs.pkl\", \"rb\") as f:\n",
    "    data = pickle.load(f)       # 读取指定的二进制对象，并返回序列化对象\n",
    "\n",
    "train_posts = data[\"train_posts\"]\n",
    "train_mappings = data[\"train_mappings\"]\n",
    "train_tags = data[\"train_labels\"]\n",
    "train_embs = data[\"train_embs\"]\n",
    "test_posts = data[\"test_posts\"]\n",
    "test_mappings = data[\"test_mappings\"]\n",
    "test_tags = data[\"test_labels\"]\n",
    "test_embs = data[\"test_embs\"]\n",
    "\n",
    "# print(train_embs.size,train_embs.shape,60067*384)\n",
    "# print(train_embs[0],type(train_embs[0]),train_embs[0].size)"
   ]
  },
  {
   "cell_type": "code",
   "execution_count": null,
   "metadata": {},
   "outputs": [],
   "source": [
    "sbert = SentenceTransformer('./paraphrase-MiniLM-L6-v2')   #sentence-transformers模型"
   ]
  },
  {
   "cell_type": "code",
   "execution_count": null,
   "metadata": {},
   "outputs": [],
   "source": [
    "questionaire_single_embs = sbert.encode(questionaire_single)  #计算表示\n",
    "depression_embs = sbert.encode(depression_texts)"
   ]
  },
  {
   "cell_type": "code",
   "execution_count": null,
   "metadata": {},
   "outputs": [],
   "source": [
    "# take care, require ~100G RAM\n",
    "train_posts = np.array(train_posts)\n",
    "test_posts = np.array(test_posts)"
   ]
  },
  {
   "cell_type": "code",
   "execution_count": null,
   "metadata": {},
   "outputs": [
    {
     "name": "stdout",
     "output_type": "stream",
     "text": [
      "(295023, 3)\n"
     ]
    }
   ],
   "source": [
    "depression_pair_sim = cosine_similarity(train_embs, depression_embs)\n",
    "depression_pair_sim.shape"
   ]
  },
  {
   "cell_type": "code",
   "execution_count": null,
   "metadata": {},
   "outputs": [
    {
     "data": {
      "text/plain": [
       "(236371, 3)"
      ]
     },
     "execution_count": 135,
     "metadata": {},
     "output_type": "execute_result"
    }
   ],
   "source": [
    "depression_pair_sim_test = cosine_similarity(test_embs, depression_embs)\n",
    "depression_pair_sim_test.shape                                          # 该相似度也被视为该帖子的风险"
   ]
  },
  {
   "cell_type": "code",
   "execution_count": null,
   "metadata": {},
   "outputs": [
    {
     "data": {
      "text/plain": [
       "(295023, 21)"
      ]
     },
     "execution_count": 138,
     "metadata": {},
     "output_type": "execute_result"
    }
   ],
   "source": [
    "dimension_sim_single = cosine_similarity(train_embs, questionaire_single_embs)\n",
    "# dimension_sim_single = cosine_similarity(train_know_embs, questionaire_single_embs)\n",
    "#计算训练集中的帖子与抑郁症模板第二组之间的余弦相似度\n",
    "dimension_sim_single.shape"
   ]
  },
  {
   "cell_type": "code",
   "execution_count": null,
   "metadata": {},
   "outputs": [
    {
     "data": {
      "text/plain": [
       "(236371, 21)"
      ]
     },
     "execution_count": 139,
     "metadata": {},
     "output_type": "execute_result"
    }
   ],
   "source": [
    "dimension_sim_single_test = cosine_similarity(test_embs, questionaire_single_embs)\n",
    "# dimension_sim_single_test = cosine_similarity(test_know_embs, questionaire_single_embs)\n",
    "#计算测试集中的帖子与抑郁症模板第二组之间的余弦相似度\n",
    "dimension_sim_single_test.shape"
   ]
  },
  {
   "cell_type": "code",
   "execution_count": 140,
   "metadata": {},
   "outputs": [
    {
     "data": {
      "text/plain": [
       "((295023, 24), (236371, 24))"
      ]
     },
     "execution_count": 140,
     "metadata": {},
     "output_type": "execute_result"
    }
   ],
   "source": [
    "# 在第二个维度（列）上进行拼接 连接帖子与模板第一组和模板第二组之间的余弦相似度,在训练集上\n",
    "combined_sim = np.concatenate([depression_pair_sim, dimension_sim_single], axis=1)  \n",
    "combined_sim_test = np.concatenate([depression_pair_sim_test, dimension_sim_single_test], axis=1)\n",
    "combined_sim.shape, combined_sim_test.shape"
   ]
  },
  {
   "cell_type": "code",
   "execution_count": null,
   "metadata": {},
   "outputs": [],
   "source": [
    "#   获取K=16个最高风险的帖子：利用上面连接后的向量计算比较(no score)\n",
    "topK = 16\n",
    "os.makedirs(f\"./processed/combined_maxsim{topK}\", exist_ok=True)\n",
    "os.makedirs(f\"./processed/combined_maxsim{topK}/train\", exist_ok=True)\n",
    "os.makedirs(f\"./processed/combined_maxsim{topK}/test\", exist_ok=True)\n",
    "for i, (mapping, label) in enumerate(zip(train_mappings, train_tags)):\n",
    "    posts = train_posts[mapping]\n",
    "    # posts = train_extended_posts[mapping]\n",
    "    sim_scores = combined_sim[mapping].max(1)   #axis=1 表示我们要沿着第二个轴的方向进行求解max。这就是 combined_sim[mapping].max(1) 这行代码的含义。\n",
    "    top_ids = sim_scores.argsort()[-topK:]\n",
    "    top_ids = np.sort(top_ids)  # sort in time order\n",
    "    sel_posts = posts[top_ids]\n",
    "    with open(f\"./processed/combined_maxsim{topK}/train/{i:06}_{label}.txt\", \"w\") as f:\n",
    "            f.write(\"\\n\".join(x.replace(\"\\n\", \" \") for x in sel_posts))\n",
    "\n",
    "for i, (mapping, label) in enumerate(zip(test_mappings, test_tags)):\n",
    "    posts = test_posts[mapping]\n",
    "    # posts = test_extended_posts[mapping]\n",
    "    sim_scores = combined_sim_test[mapping].max(1)\n",
    "    top_ids = sim_scores.argsort()[-topK:]\n",
    "    top_ids = np.sort(top_ids)  # sort in time order\n",
    "    sel_posts = posts[top_ids]\n",
    "    with open(f\"./processed/combined_maxsim{topK}/test/{i:06}_{label}.txt\", \"w\") as f:\n",
    "        f.write(\"\\n\".join(x.replace(\"\\n\", \" \") for x in sel_posts))"
   ]
  },
  {
   "cell_type": "code",
   "execution_count": null,
   "metadata": {},
   "outputs": [],
   "source": [
    "#   获取K=16个最高风险的帖子：利用上面连接后的向量计算比较(score)\n",
    "topK = 16\n",
    "os.makedirs(f\"./processed_score/combined_maxsim{topK}\", exist_ok=True)\n",
    "os.makedirs(f\"./processed_score/combined_maxsim{topK}/train\", exist_ok=True)\n",
    "os.makedirs(f\"./processed_score/combined_maxsim{topK}/test\", exist_ok=True)\n",
    "for i, (mapping, label) in enumerate(zip(train_mappings, train_tags)):\n",
    "    posts = train_posts[mapping]\n",
    "    # posts = train_extended_posts[mapping]\n",
    "    sim_scores = combined_sim[mapping].max(1)   #axis=1 表示我们要沿着第二个轴的方向进行求解max。这就是 combined_sim[mapping].max(1) 这行代码的含义。\n",
    "    top_ids = sim_scores.argsort()[-topK:]\n",
    "    top_ids = np.sort(top_ids)  # sort in time order\n",
    "    sel_posts = posts[top_ids]\n",
    "    sim_scores = sim_scores[top_ids]\n",
    "    sum_score = 0\n",
    "    with open(f\"./processed_score/combined_maxsim{topK}/train/{i:06}_{label}.txt\", \"w\") as f:\n",
    "        for post, score in zip(sel_posts, sim_scores):\n",
    "            sum_score += score\n",
    "            avg_score = sum_score / len(sel_posts)\n",
    "            # 在帖子句尾追加分数 \n",
    "            f.write(post + \" \" + str(score) + \"\\n\") \n",
    "        # f.write('avg_score=' + str(avg_score))\n",
    "\n",
    "for i, (mapping, label) in enumerate(zip(test_mappings, test_tags)):\n",
    "    posts = test_posts[mapping]\n",
    "    # posts = test_extended_posts[mapping]\n",
    "    sim_scores = combined_sim_test[mapping].max(1)\n",
    "    top_ids = sim_scores.argsort()[-topK:]\n",
    "    top_ids = np.sort(top_ids)  # sort in time order\n",
    "    sel_posts = posts[top_ids]\n",
    "    sim_scores = sim_scores[top_ids]\n",
    "    sum_score = 0\n",
    "    with open(f\"./processed_score/combined_maxsim{topK}/test/{i:06}_{label}.txt\", \"w\") as f:\n",
    "        for post, score in zip(sel_posts, sim_scores):\n",
    "            sum_score += score\n",
    "            avg_score = sum_score / len(sel_posts)\n",
    "            # 在帖子句尾追加分数\n",
    "            f.write(post + \" \" + str(score) + \"\\n\") \n",
    "        # f.write('avg_score=' + str(avg_score))"
   ]
  }
 ],
 "metadata": {
  "kernelspec": {
   "display_name": "yh",
   "language": "python",
   "name": "python3"
  },
  "language_info": {
   "codemirror_mode": {
    "name": "ipython",
    "version": 3
   },
   "file_extension": ".py",
   "mimetype": "text/x-python",
   "name": "python",
   "nbconvert_exporter": "python",
   "pygments_lexer": "ipython3",
   "version": "3.9.16"
  }
 },
 "nbformat": 4,
 "nbformat_minor": 4
}
